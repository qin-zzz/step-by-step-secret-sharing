{
  "cells": [
    {
      "cell_type": "markdown",
      "metadata": {
        "id": "GuW9R2FJwoHk"
      },
      "source": [
        "# XOR Secret Sharing\n"
      ]
    },
    {
      "cell_type": "code",
      "execution_count": 24,
      "metadata": {
        "colab": {
          "base_uri": "https://localhost:8080/"
        },
        "id": "J-N4SipPwzj-",
        "outputId": "b7aa05e1-6007-4d84-c0fa-0f0105ab3a71"
      },
      "outputs": [
        {
          "name": "stdout",
          "output_type": "stream",
          "text": [
            "Shares: [189, 200, 236, 64, 246]\n",
            "Reconstructed Secret: 47\n",
            "Original Secret: 47\n"
          ]
        }
      ],
      "source": [
        "import random\n",
        "\n",
        "def generate_shares(secret, num_parties):\n",
        "    shares = []\n",
        "    for _ in range(num_parties - 1):\n",
        "        share = random.randint(0, 255)  # Assuming secret is a byte (8 bits)\n",
        "        shares.append(share)\n",
        "        secret ^= share\n",
        "    shares.append(secret)\n",
        "    return shares\n",
        "\n",
        "def reconstruct_secret(shares):\n",
        "    secret = 0\n",
        "    for share in shares:\n",
        "        secret ^= share\n",
        "    return secret\n",
        "\n",
        "num_parties = 5\n",
        "secret = 47\n",
        "shares = generate_shares(secret, num_parties)\n",
        "reconstructed_secret = reconstruct_secret(shares)\n",
        "\n",
        "print(\"Shares:\", shares)\n",
        "print(\"Reconstructed Secret:\", reconstructed_secret)\n",
        "print(\"Original Secret:\", secret)\n"
      ]
    },
    {
      "cell_type": "markdown",
      "metadata": {
        "id": "rFsD7WxEtFwc"
      },
      "source": [
        "# Simple 2PC Addition"
      ]
    },
    {
      "cell_type": "code",
      "execution_count": 25,
      "metadata": {
        "colab": {
          "base_uri": "https://localhost:8080/"
        },
        "id": "dDQ45-8BtJDb",
        "outputId": "115dbbb6-e042-4d5b-e72f-e751c374938f"
      },
      "outputs": [
        {
          "name": "stdout",
          "output_type": "stream",
          "text": [
            "Shares of secret1: [30, 128, 49, 26, 71]\n",
            "Shares of secret2: [211, 139, 234, 102, 148]\n",
            "Shares of result: [241, 10, 26, 128, 219]\n",
            "Reconstructed result: 110\n",
            "Expected result: 110\n"
          ]
        }
      ],
      "source": [
        "def generate_shares(secret, num_parties, prime):\n",
        "    shares = [random.randint(0, prime - 1) for _ in range(num_parties - 1)]\n",
        "    shares.append((secret - sum(shares)) % prime)\n",
        "    return shares\n",
        "\n",
        "def add_shares(shares1, shares2, prime):\n",
        "    return [(share1 + share2) % prime for share1, share2 in zip(shares1, shares2)]\n",
        "\n",
        "def reconstruct_secret(shares, prime):\n",
        "    return sum(shares) % prime\n",
        "\n",
        "prime = 257\n",
        "num_parties = 5\n",
        "secret1 = 47\n",
        "secret2 = 63\n",
        "\n",
        "shares1 = generate_shares(secret1, num_parties, prime)\n",
        "shares2 = generate_shares(secret2, num_parties, prime)\n",
        "result_shares = add_shares(shares1, shares2, prime)\n",
        "result = reconstruct_secret(result_shares, prime)\n",
        "\n",
        "print(\"Shares of secret1:\", shares1)\n",
        "print(\"Shares of secret2:\", shares2)\n",
        "print(\"Shares of result:\", result_shares)\n",
        "print(\"Reconstructed result:\", result)\n",
        "print(\"Expected result:\", secret1 + secret2)\n"
      ]
    },
    {
      "cell_type": "markdown",
      "metadata": {
        "id": "bxHI4fUwzM9x"
      },
      "source": [
        "# 2-out-of-3 Linear Secret Sharing Scheme"
      ]
    },
    {
      "cell_type": "code",
      "execution_count": 32,
      "metadata": {
        "colab": {
          "base_uri": "https://localhost:8080/"
        },
        "id": "NOZtbYeVzd8g",
        "outputId": "f70c5a2c-82c7-4b73-9b88-1c9f2ec83351"
      },
      "outputs": [
        {
          "name": "stdout",
          "output_type": "stream",
          "text": [
            "Shares: [(10, 54), (15, 171), (69, 201)]\n",
            "Reconstructed Polynomial Coefficients (a, b): (229, 77)\n"
          ]
        }
      ],
      "source": [
        "import random\n",
        "\n",
        "# Function to generate a random linear polynomial coefficients\n",
        "def generate_polynomial(p):\n",
        "    a = random.randint(1, p - 1)\n",
        "    b = random.randint(0, p - 1)\n",
        "    return a, b\n",
        "\n",
        "# Function to evaluate the polynomial at a given point\n",
        "def evaluate_polynomial(a, b, x, p):\n",
        "    return (a * x + b) % p\n",
        "\n",
        "# Generate shares for the secret polynomial\n",
        "def generate_shares(p, num_parties=3):\n",
        "    a, b = generate_polynomial(p)\n",
        "    x1, x2, x3 = random.sample(range(1, p), num_parties)  # Choose distinct points\n",
        "    share1 = evaluate_polynomial(a, b, x1, p)\n",
        "    share2 = evaluate_polynomial(a, b, x2, p)\n",
        "    share3 = evaluate_polynomial(a, b, x3, p)\n",
        "    return [(x1, share1), (x2, share2), (x3, share3)]\n",
        "\n",
        "# Reconstruct the secret from any two shares\n",
        "def reconstruct_secret(shares, p):\n",
        "    x1, y1 = shares[0]\n",
        "    x2, y2 = shares[1]\n",
        "    a = ((y2 - y1) * pow((x2 - x1), -1, p)) % p\n",
        "    b = (y1 - a * x1) % p\n",
        "    return a, b\n",
        "\n",
        "p = 257\n",
        "shares = generate_shares(p)\n",
        "reconstructed_a, reconstructed_b = reconstruct_secret(random.sample(shares, 2), p)\n",
        "\n",
        "print(\"Shares:\", shares)\n",
        "print(\"Reconstructed Polynomial Coefficients (a, b):\", (reconstructed_a, reconstructed_b))\n"
      ]
    },
    {
      "cell_type": "markdown",
      "metadata": {
        "id": "eCiQLshNsvf0"
      },
      "source": [
        "# Threashold secret sharing"
      ]
    },
    {
      "cell_type": "code",
      "execution_count": 31,
      "metadata": {
        "colab": {
          "base_uri": "https://localhost:8080/"
        },
        "id": "VzzGyueLrtJW",
        "outputId": "304ac064-86b5-41d6-f5fb-e08ad7c0fc6d"
      },
      "outputs": [
        {
          "name": "stdout",
          "output_type": "stream",
          "text": [
            "Shares: [(1, 164), (2, 29), (3, 151), (4, 16), (5, 138)]\n",
            "Reconstructed Secret: 42\n",
            "Original Secret: 42\n"
          ]
        }
      ],
      "source": [
        "from sympy import mod_inverse\n",
        "\n",
        "# Function to generate a random linear polynomial coefficients\n",
        "def generate_random_polynomial(degree, secret, prime):\n",
        "    coefficients = [secret]\n",
        "    for _ in range(1, degree):\n",
        "        coefficients.append(random.randint(0, prime - 1))\n",
        "    return coefficients\n",
        "\n",
        "# Function to evaluate the polynomial at a given point\n",
        "def evaluate_polynomial(coefficients, x, prime):\n",
        "    result = 0\n",
        "    for coefficient in reversed(coefficients):\n",
        "        result = (result * x + coefficient) % prime\n",
        "    return result\n",
        "\n",
        "# Generate shares for the secret polynomial\n",
        "def generate_shares(secret, num_parties, threshold, prime):\n",
        "    if threshold > num_shares:\n",
        "        raise ValueError(\"Threshold cannot be greater than the number of shares\")\n",
        "\n",
        "    coefficients = generate_random_polynomial(threshold - 1, secret, prime)\n",
        "    shares = []\n",
        "    for x in range(1, num_parties + 1):\n",
        "        y = evaluate_polynomial(coefficients, x, prime)\n",
        "        shares.append((x, y))\n",
        "    return shares\n",
        "\n",
        "# Reconstruct the secret from any two shares\n",
        "def reconstruct_secret(shares, prime):\n",
        "    if len(shares) < 2:\n",
        "        raise ValueError(\"At least 2 shares are required to interpolate the secret\")\n",
        "\n",
        "    x_values, y_values = zip(*shares)\n",
        "    secret = 0\n",
        "    for i in range(len(x_values)):\n",
        "        numerator, denominator = 1, 1\n",
        "        for j in range(len(x_values)):\n",
        "            if i == j:\n",
        "                continue\n",
        "            numerator = (numerator * -x_values[j]) % prime\n",
        "            denominator = (denominator * (x_values[i] - x_values[j])) % prime\n",
        "        secret = (secret + (y_values[i] * numerator * mod_inverse(denominator, prime))) % prime\n",
        "    return secret\n",
        "\n",
        "prime = 257\n",
        "secret = 42\n",
        "num_shares = 5\n",
        "threshold = 3\n",
        "\n",
        "shares = generate_shares(secret, num_shares, threshold, prime)\n",
        "reconstructed_secret = reconstruct_secret(random.sample(shares, threshold), prime)\n",
        "\n",
        "print(\"Shares:\", shares)\n",
        "print(\"Reconstructed Secret:\", reconstructed_secret)\n",
        "print(\"Original Secret:\", secret)\n"
      ]
    },
    {
      "cell_type": "code",
      "execution_count": null,
      "metadata": {
        "id": "sNpq3dLPm2yk"
      },
      "outputs": [],
      "source": []
    }
  ],
  "metadata": {
    "colab": {
      "provenance": []
    },
    "kernelspec": {
      "display_name": "Python 3",
      "name": "python3"
    },
    "language_info": {
      "name": "python"
    }
  },
  "nbformat": 4,
  "nbformat_minor": 0
}
